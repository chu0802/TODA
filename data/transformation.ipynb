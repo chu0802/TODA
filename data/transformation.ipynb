{
 "cells": [
  {
   "cell_type": "code",
   "execution_count": 73,
   "id": "italian-france",
   "metadata": {},
   "outputs": [],
   "source": [
    "from scipy.spatial.distance import cdist\n",
    "from scipy.stats import mode\n",
    "import numpy as np\n",
    "from sklearn.svm import LinearSVC\n",
    "from sklearn.linear_model import SGDClassifier\n",
    "from itertools import permutations, combinations\n",
    "\n",
    "from numpy.random import default_rng\n",
    "from numpy.linalg import norm\n",
    "from scipy.special import softmax\n",
    "from sklearn.decomposition import PCA\n",
    "\n",
    "def normalize(x):\n",
    "    return (x - x.mean(axis=0))/x.std(axis=0)\n",
    "\n",
    "def get_features(path, norm=True):\n",
    "    data = np.load(path)\n",
    "    ss, st = data['s'], data['t']\n",
    "    ssx, ssy = ss[:, :-1], ss[:, -1]\n",
    "    stx, sty = st[:, :-1], st[:, -1]\n",
    "    if norm:\n",
    "        return normalize(ssx), ssy, normalize(stx), sty.astype(int)\n",
    "    return ssx, ssy, stx, sty.astype(int)\n",
    "\n",
    "def prototype_classifier(X, C, th=2):\n",
    "    dist = cdist(C, X)\n",
    "    prob = softmax(-dist, axis=0)\n",
    "    return prob.argsort(axis=0)[-th:, :], dist.sort(axis=0)[:th, :]"
   ]
  },
  {
   "cell_type": "markdown",
   "id": "945a0697",
   "metadata": {},
   "source": [
    "#### Guess the transformation"
   ]
  },
  {
   "cell_type": "code",
   "execution_count": 69,
   "id": "e693fbfe",
   "metadata": {},
   "outputs": [
    {
     "name": "stdout",
     "output_type": "stream",
     "text": [
      "Avg acc.: 0.0\n"
     ]
    }
   ],
   "source": [
    "avg = 0\n",
    "for s, t in permutations(range(4), 2):\n",
    "    org_path = f'./OfficeHome/fixbi/s{s}_t{t}.npz'\n",
    "    new_path = f'./OfficeHome/s2t/s{s}_t{t}.npz'\n",
    "    m = np.load(new_path)['m']\n",
    "    \n",
    "    osx, osy, otx, oty = get_features(org_path, norm=False)\n",
    "    osc = np.stack([osx[osy == i].mean(axis=0) for i in range(65)])\n",
    "print('Avg acc.:', avg/12)"
   ]
  },
  {
   "cell_type": "markdown",
   "id": "recreational-waste",
   "metadata": {},
   "source": [
    "#### After linear transformation"
   ]
  },
  {
   "cell_type": "code",
   "execution_count": 72,
   "id": "parental-specification",
   "metadata": {
    "scrolled": false
   },
   "outputs": [
    {
     "name": "stdout",
     "output_type": "stream",
     "text": [
      "---------- source 0, target 1 ----------\n",
      "0.61\n",
      "---------- source 0, target 2 ----------\n",
      "0.7770919067215364\n",
      "---------- source 0, target 3 ----------\n",
      "0.7814538676607642\n",
      "---------- source 1, target 0 ----------\n",
      "0.6278577476714648\n",
      "---------- source 1, target 2 ----------\n",
      "0.7233653406492913\n",
      "---------- source 1, target 3 ----------\n",
      "0.7034016775396086\n",
      "---------- source 2, target 0 ----------\n",
      "0.6879762912785775\n",
      "---------- source 2, target 1 ----------\n",
      "0.5927906976744186\n",
      "---------- source 2, target 3 ----------\n",
      "0.7996272134203168\n",
      "---------- source 3, target 0 ----------\n",
      "0.7345469940728196\n",
      "---------- source 3, target 1 ----------\n",
      "0.6158139534883721\n",
      "---------- source 3, target 2 ----------\n",
      "0.8374485596707819\n",
      "Avg acc.: 0.7076145208206626\n"
     ]
    }
   ],
   "source": [
    "avg = 0\n",
    "for s, t in permutations(range(4), 2):\n",
    "    org_path = f'./OfficeHome/fixbi/s{s}_t{t}.npz'\n",
    "    new_path = f'./OfficeHome/s2t/s{s}_t{t}.npz'\n",
    "    \n",
    "    osx, osy, otx, oty = get_features(org_path, norm=False)\n",
    "    m = np.load(new_path)['m']\n",
    "    ntx = otx @ m.T\n",
    "    nsx = osx @ m.T\n",
    "    osc = np.stack([osx[osy == i].mean(axis=0) for i in range(65)])\n",
    "    \n",
    "    pred, _ = prototype_classifier(ntx, osc)\n",
    "    score = (pred == oty).mean()\n",
    "    print('-'*10, f'source {s}, target {t}', '-'*10)\n",
    "    print(score)\n",
    "    avg += score\n",
    "print('Avg acc.:', avg/12)"
   ]
  }
 ],
 "metadata": {
  "kernelspec": {
   "display_name": "Python 3",
   "language": "python",
   "name": "python3"
  },
  "language_info": {
   "codemirror_mode": {
    "name": "ipython",
    "version": 3
   },
   "file_extension": ".py",
   "mimetype": "text/x-python",
   "name": "python",
   "nbconvert_exporter": "python",
   "pygments_lexer": "ipython3",
   "version": "3.8.5"
  }
 },
 "nbformat": 4,
 "nbformat_minor": 5
}
