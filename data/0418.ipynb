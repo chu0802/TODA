{
 "cells": [
  {
   "cell_type": "code",
   "execution_count": null,
   "id": "based-trauma",
   "metadata": {},
   "outputs": [],
   "source": [
    "from scipy.spatial.distance import cdist\n",
    "from scipy.stats import mode\n",
    "import numpy as np\n",
    "from sklearn.svm import LinearSVC\n",
    "from sklearn.linear_model import SGDClassifier\n",
    "from itertools import permutations, combinations\n",
    "\n",
    "from numpy.random import default_rng\n",
    "from numpy.linalg import norm\n",
    "from scipy.special import softmax\n",
    "from collections import Counter\n",
    "from pathlib import Path\n",
    "\n",
    "def normalize(x):\n",
    "    return (x - x.mean(axis=0))/x.std(axis=0)\n",
    "\n",
    "def get_features(path, norm=True):\n",
    "    data = np.load(path)\n",
    "    ss, st = data['s'], data['t']\n",
    "    ssx, ssy = ss[:, :-1], ss[:, -1]\n",
    "    stx, sty = st[:, :-1], st[:, -1]\n",
    "    if norm:\n",
    "        return normalize(ssx), ssy, normalize(stx), sty\n",
    "    return ssx, ssy, stx, sty\n",
    "\n",
    "def prototype_classifier(X, C, th=1):\n",
    "    dist = cdist(C, X)\n",
    "    prob = softmax(-dist, axis=0)\n",
    "    return prob.argsort(axis=0)[-th:], prob\n",
    "\n",
    "def masked_prototypical_classifier(X, C, ratio=0.3, seed=2437):\n",
    "    rng = np.random.default_rng(seed)\n",
    "    masked_idx = ~rng.binomial(1, ratio, X.shape[1]).astype(bool)\n",
    "    return prototype_classifier(X[:, masked_idx], C[:, masked_idx])"
   ]
  },
  {
   "cell_type": "code",
   "execution_count": null,
   "id": "solar-charm",
   "metadata": {},
   "outputs": [],
   "source": [
    "data_path = Path('/work/chu980802/data/OfficeHome/Art')\n",
    "class_name = {i: x.name for i, x in enumerate(sorted(data_path.iterdir()))}"
   ]
  },
  {
   "cell_type": "markdown",
   "id": "driving-promotion",
   "metadata": {},
   "source": [
    "#### Protonet Pseudo Label Training Space"
   ]
  },
  {
   "cell_type": "code",
   "execution_count": null,
   "id": "generous-vampire",
   "metadata": {},
   "outputs": [],
   "source": [
    "avg = 0\n",
    "\n",
    "for s, t in permutations(range(4), 2):\n",
    "    s_path = f'./OfficeHome/fixbi/s{s}_t{t}.npz'\n",
    "    ssx, ssy, stx, sty = get_features(s_path, norm=False)\n",
    "\n",
    "print(f'Avg acc.:', avg/12)"
   ]
  },
  {
   "cell_type": "markdown",
   "id": "solar-rover",
   "metadata": {},
   "source": [
    "#### Protonet Domain Center"
   ]
  },
  {
   "cell_type": "code",
   "execution_count": null,
   "id": "suspended-inspiration",
   "metadata": {
    "scrolled": true
   },
   "outputs": [],
   "source": [
    "avg = 0\n",
    "\n",
    "for s, t in permutations(range(4), 2):\n",
    "    s_path = f'./OfficeHome/fixbi/s{s}_t{t}.npz'\n",
    "    ssx, ssy, stx, sty = get_features(s_path, norm=False)\n",
    "\n",
    "    sc = ssx.mean(axis=0)\n",
    "    tc = stx.mean(axis=0)\n",
    "    c = np.stack([sc, tc])\n",
    "    \n",
    "    y = np.r_[np.zeros(len(ssy)), np.ones(len(sty))]\n",
    "    x = np.r_[ssx, stx]\n",
    "    pred, _ = prototype_classifier(x, c)\n",
    "    \n",
    "    score = (pred == y).mean()\n",
    "    print('-'*10, f'source {s}, target {t}', '-'*10)\n",
    "    print(score)\n",
    "    dist = np.linalg.norm(sc - tc)\n",
    "    print(dist)\n",
    "    avg += score\n",
    "print(f'Avg acc.:', avg/12)"
   ]
  },
  {
   "cell_type": "code",
   "execution_count": null,
   "id": "activated-parks",
   "metadata": {},
   "outputs": [],
   "source": [
    "avg = 0\n",
    "for s, t in permutations(range(4), 2):\n",
    "    s_path = f'./OfficeHome/fixbi/s{s}_t{t}.npz'\n",
    "    ssx, ssy, stx, sty = get_features(s_path, norm=False)\n",
    "\n",
    "    ssc = np.stack([ssx[ssy == i].mean(axis = 0) for i in range(65)])\n",
    "    pred, _ = prototype_classifier(stx, ssc)\n",
    "#     c1 = LinearSVC(random_state=2476, C=0.01, max_iter=5000)\n",
    "#     labels = np.arange(65)\n",
    "#     c1.fit(ssc, labels)\n",
    "#     pred = c1.predict(stx)\n",
    "    score = (pred == sty).mean()\n",
    "    print('-'*10, f'source {s}, target {t}', '-'*10)\n",
    "    print(score)\n",
    "    avg += score\n",
    "print(f'C = {c}, Avg acc.:', avg/12)"
   ]
  },
  {
   "cell_type": "markdown",
   "id": "injured-probe",
   "metadata": {},
   "source": [
    "#### parameter selection on source"
   ]
  },
  {
   "cell_type": "code",
   "execution_count": null,
   "id": "plain-china",
   "metadata": {
    "scrolled": true
   },
   "outputs": [],
   "source": [
    "# rng = np.random.default_rng(12345)\n",
    "c_list = [1e-4, 1e-3, 1e-2, 1e-1, 1, 10]\n",
    "total_avg = []\n",
    "for c in c_list:\n",
    "    avg = 0\n",
    "    for s, t in permutations(range(4), 2):\n",
    "        s_path = f'./OfficeHome/fixbi/s{s}_t{t}.npz'\n",
    "        ssx, ssy, stx, sty = get_features(s_path, norm=False)\n",
    "\n",
    "        ssc = np.stack([ssx[ssy == i].mean(axis = 0) for i in range(65)])\n",
    "        c1 = LinearSVC(random_state=2476, C=c, max_iter=5000)\n",
    "        labels = np.arange(65)\n",
    "        c1.fit(ssx, ssy)\n",
    "        pred = c1.predict(stx)\n",
    "        score = (pred == sty).mean()\n",
    "#         print('-'*10, f'source {s}, target {t}', '-'*10)\n",
    "#         print(score)\n",
    "        avg += score\n",
    "    print(f'C = {c}, Avg acc.:', avg/12)\n",
    "    total_avg.append(avg/12)\n",
    "print('Total Avg acc.:', np.mean(total_avg))\n",
    "print('std:', np.std(total_avg))"
   ]
  },
  {
   "cell_type": "markdown",
   "id": "knowing-adjustment",
   "metadata": {},
   "source": [
    "#### Protonet classifier for source on target"
   ]
  },
  {
   "cell_type": "code",
   "execution_count": null,
   "id": "northern-charlotte",
   "metadata": {
    "scrolled": true
   },
   "outputs": [],
   "source": [
    "avg = 0\n",
    "for s, t in permutations(range(4), 2):\n",
    "    s_path = f'./OfficeHome/fixbi/s{s}_t{t}.npz'\n",
    "    ssx, ssy, stx, sty = get_features(s_path, norm=False)\n",
    "\n",
    "    ssc = np.stack([ssx[ssy == i].mean(axis=0) for i in range(65)])\n",
    "    for i in range(1000):\n",
    "        pred1, _ = masked_prototypical_classifier(stx, ssc, ratio=0.3, seed=i)\n",
    "        \n",
    "        print(pred1)\n",
    "    break\n",
    "#     score = (pred == tsy).mean()\n",
    "#     print('-'*10, f'source {s}, target {t}', '-'*10)\n",
    "#     print(score)\n",
    "#     avg += score\n",
    "print(f'Avg acc.:', avg/12)"
   ]
  },
  {
   "cell_type": "markdown",
   "id": "designing-zoning",
   "metadata": {},
   "source": [
    "#### Hyper parameter selection"
   ]
  },
  {
   "cell_type": "code",
   "execution_count": null,
   "id": "monthly-prison",
   "metadata": {},
   "outputs": [],
   "source": [
    "# rng = np.random.default_rng(12345)\n",
    "c_list = [1e-4, 1e-3, 1e-2, 1e-1, 1, 10]\n",
    "total_avg = []\n",
    "ratio = 0.2\n",
    "for c in c_list:\n",
    "    avg = 0\n",
    "    for s, t in permutations(range(4), 2):\n",
    "        t_path = f'./OfficeHome/partial/s{t}_t{s}_{ratio}.npz'\n",
    "        ttx, tty, tsx, tsy = get_features(t_path, norm=False)\n",
    "\n",
    "        tsc = np.stack([tsx[tsy == i].mean(axis=0) for i in range(65)])\n",
    "        labels = np.arange(65)\n",
    "\n",
    "        c1 = LinearSVC(random_state=12453, C=c, max_iter=5000)\n",
    "        c1.fit(tsc, labels)\n",
    "#         c1.fit(tsx, tsy)\n",
    "#         print('-'*10, f'source {s}, target {t}', '-'*10)\n",
    "        score = c1.score(ttx, tty)\n",
    "#         print(score)\n",
    "        avg += score\n",
    "    print(f'C = {c}, Avg acc.:', avg/12)\n",
    "    total_avg.append(avg/12)\n",
    "print('Total Avg acc.:', np.mean(total_avg))\n",
    "print('std:', np.std(total_avg))"
   ]
  },
  {
   "cell_type": "markdown",
   "id": "occasional-sarah",
   "metadata": {},
   "source": [
    "#### Protonet for partial space"
   ]
  },
  {
   "cell_type": "code",
   "execution_count": null,
   "id": "collective-anniversary",
   "metadata": {},
   "outputs": [],
   "source": [
    "avg = 0\n",
    "ratio = 0.2\n",
    "for s, t in permutations(range(4), 2):\n",
    "    t_path = f'./OfficeHome/partial/s{t}_t{s}_{ratio}.npz'\n",
    "    ttx, tty, tsx, tsy = get_features(t_path, norm=False)\n",
    "    tsc = np.stack([tsx[tsy == i].mean(axis=0) for i in range(65)])    \n",
    "    pred, _ = prototype_classifier(ttx, tsc)\n",
    "    score = (pred == tty).mean()\n",
    "    print('-'*10, f'source {s}, target {t}', '-'*10)\n",
    "    print(score)\n",
    "    avg += score\n",
    "print('Avg acc.:', avg/12)"
   ]
  },
  {
   "cell_type": "markdown",
   "id": "loved-vampire",
   "metadata": {},
   "source": [
    "#### top-2 accuracy"
   ]
  },
  {
   "cell_type": "code",
   "execution_count": null,
   "id": "express-crossing",
   "metadata": {},
   "outputs": [],
   "source": [
    "avg = 0\n",
    "ratio = 0.2\n",
    "for s, t in permutations(range(4), 2):\n",
    "    s_path = f'./OfficeHome/fixbi/s{s}_t{t}.npz'\n",
    "    ssx, ssy, stx, sty = get_features(s_path, norm=False)\n",
    "    ssc = np.stack([ssx[ssy == i].mean(axis=0) for i in range(65)])    \n",
    "\n",
    "    pred, _ = prototype_classifier(stx, ssc, th=2)\n",
    "    for i in range(65):\n",
    "        p = pred.T[(pred.T[:, 0] == i) & (sty == i)]\n",
    "        c = Counter(p[:, 1])\n",
    "        print([(class_name[a], b) for a, b in c.most_common(3)])\n",
    "    score = np.array([True if y in p else False for y, p in zip(sty, pred.T)]).mean()\n",
    "#     score = (pred == tty).mean()\n",
    "    print('-'*10, f'source {s}, target {t}', '-'*10)\n",
    "    print(score)\n",
    "    avg += score\n",
    "    break\n",
    "print('Avg acc.:', avg/12)"
   ]
  }
 ],
 "metadata": {
  "kernelspec": {
   "display_name": "Python 3",
   "language": "python",
   "name": "python3"
  },
  "language_info": {
   "codemirror_mode": {
    "name": "ipython",
    "version": 3
   },
   "file_extension": ".py",
   "mimetype": "text/x-python",
   "name": "python",
   "nbconvert_exporter": "python",
   "pygments_lexer": "ipython3",
   "version": "3.8.5"
  }
 },
 "nbformat": 4,
 "nbformat_minor": 5
}
