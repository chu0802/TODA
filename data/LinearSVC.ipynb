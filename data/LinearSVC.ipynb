{
 "cells": [
  {
   "cell_type": "code",
   "execution_count": null,
   "id": "unexpected-architecture",
   "metadata": {},
   "outputs": [],
   "source": [
    "import numpy as np\n",
    "from sklearn.svm import LinearSVC"
   ]
  },
  {
   "cell_type": "code",
   "execution_count": null,
   "id": "experimental-future",
   "metadata": {},
   "outputs": [],
   "source": [
    "data_path = '../../simsiam/data/OfficeHome/s0_1126.npz'\n",
    "sf = np.load(data_path)['sf']\n",
    "sx, sy = sf[:, :-1], sf[:, -1]"
   ]
  },
  {
   "cell_type": "code",
   "execution_count": null,
   "id": "compatible-baseline",
   "metadata": {},
   "outputs": [],
   "source": [
    "ratio = 0.7\n",
    "train_idx = np.random.binomial(1, 0.7, size=len(sx)).astype(bool)\n",
    "tx, ty = sx[train_idx], sy[train_idx]\n",
    "vx, vy = sx[~train_idx], sy[~train_idx]\n",
    "\n",
    "c0 = LinearSVC(random_state=1126, C=0.1, max_iter=5000)\n",
    "c0.fit(tx, ty)\n",
    "print(c0.score(tx, ty), c0.score(vx, vy))"
   ]
  },
  {
   "cell_type": "code",
   "execution_count": null,
   "id": "peaceful-washington",
   "metadata": {},
   "outputs": [],
   "source": [
    "c0 = LinearSVC(random_state=1126, C=0.1, max_iter=5000)\n",
    "c0.fit(s[:, :-1],s[:, -1])"
   ]
  },
  {
   "cell_type": "code",
   "execution_count": null,
   "id": "revised-velvet",
   "metadata": {},
   "outputs": [],
   "source": [
    "# true_s_path = f'./OfficeHome/s0_12845.npz'\n",
    "s_path = f'./OfficeHome/dann/s0_t1.npz'\n",
    "t_path = f'./OfficeHome/s1_12846.npz'\n",
    "# true_s = np.load(true_s_path)['s']\n",
    "s = np.load(s_path)['s']\n",
    "t = np.load(t_path)['s']"
   ]
  },
  {
   "cell_type": "code",
   "execution_count": null,
   "id": "several-frank",
   "metadata": {},
   "outputs": [],
   "source": [
    "c0 = LinearSVC(random_state=1126, C=0.1, max_iter=5000)\n",
    "c0.fit(s[:, :-1],s[:, -1])\n",
    "\n",
    "# ts_acc = c0.score(true_s[:, :-1], true_s[:, -1])\n",
    "s_acc = c0.score(s[:, :-1], s[:, -1])\n",
    "t_acc = c0.score(t[:, :-1],t[:, -1])\n",
    "print(s_acc, t_acc)"
   ]
  },
  {
   "cell_type": "code",
   "execution_count": null,
   "id": "sharp-logging",
   "metadata": {},
   "outputs": [],
   "source": [
    "s_feat, t_feat = [], []\n",
    "for i in range(4):\n",
    "    s_path = f'./OfficeHome/s{i}_1126.npz'\n",
    "    t_path = f'./OfficeHome/s{i}_{1126}_1.0.npz'\n",
    "    s = np.load(s_path)\n",
    "    s_feat.append(s['s'])\n",
    "    t = np.load(t_path)\n",
    "    t_feat.append(t['s'])"
   ]
  },
  {
   "cell_type": "code",
   "execution_count": null,
   "id": "departmental-agenda",
   "metadata": {
    "scrolled": false
   },
   "outputs": [],
   "source": [
    "avg_acc = 0\n",
    "for train_idx in range(4):\n",
    "    c0 = LinearSVC(random_state=1126, C=0.1, max_iter=5000)\n",
    "    c0.fit(t_feat[train_idx][:, :-1],t_feat[train_idx][:, -1])\n",
    "    print(f'Source: {train_idx}')\n",
    "    for idx in range(4):\n",
    "#         if train_idx != idx:\n",
    "        acc = c0.score(t_feat[idx][:, :-1],t_feat[idx][:, -1])\n",
    "        avg_acc += acc\n",
    "        print(acc)\n",
    "            \n",
    "print(f'Average Accuracy: {avg_acc/12}')"
   ]
  }
 ],
 "metadata": {
  "kernelspec": {
   "display_name": "Python 3",
   "language": "python",
   "name": "python3"
  },
  "language_info": {
   "codemirror_mode": {
    "name": "ipython",
    "version": 3
   },
   "file_extension": ".py",
   "mimetype": "text/x-python",
   "name": "python",
   "nbconvert_exporter": "python",
   "pygments_lexer": "ipython3",
   "version": "3.8.5"
  }
 },
 "nbformat": 4,
 "nbformat_minor": 5
}
