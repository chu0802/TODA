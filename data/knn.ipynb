{
 "cells": [
  {
   "cell_type": "code",
   "execution_count": null,
   "id": "revolutionary-tongue",
   "metadata": {},
   "outputs": [],
   "source": [
    "from scipy.spatial.distance import cdist\n",
    "from scipy.stats import mode\n",
    "import numpy as np\n",
    "from sklearn.svm import LinearSVC\n",
    "from sklearn.linear_model import SGDClassifier\n",
    "from itertools import permutations, combinations\n",
    "\n",
    "from numpy.random import default_rng\n",
    "from numpy.linalg import norm\n",
    "from scipy.special import softmax"
   ]
  },
  {
   "cell_type": "code",
   "execution_count": null,
   "id": "spread-match",
   "metadata": {},
   "outputs": [],
   "source": [
    "def normalize(x):\n",
    "    return (x - x.mean(axis=0))/x.std(axis=0)"
   ]
  },
  {
   "cell_type": "code",
   "execution_count": null,
   "id": "intermediate-alarm",
   "metadata": {},
   "outputs": [],
   "source": [
    "def knn(sx, sy, tx, k=9):\n",
    "    dist = cdist(tx, sx)\n",
    "    sorted_idx = np.argsort(dist, axis=1)[:, :k]\n",
    "    return mode(sy[sorted_idx], axis=1).mode.flatten()"
   ]
  },
  {
   "cell_type": "code",
   "execution_count": null,
   "id": "numeric-polymer",
   "metadata": {},
   "outputs": [],
   "source": [
    "def cbpl(sx, sy, tx, ty, th=1, alpha=0.9, num_iter=3):\n",
    "    center = np.vstack([sx[sy == idx].mean(axis=0) for idx in range(65)])\n",
    "    sorted_idx = None\n",
    "    for _ in range(num_iter):\n",
    "        dist = cdist(center, tx)\n",
    "        sorted_idx = np.argsort(dist, axis=1)[:, :th]\n",
    "        cand = tx[sorted_idx].mean(axis=1)\n",
    "        center = alpha * center + (1 - alpha) * cand\n",
    "    return tx[sorted_idx].reshape(-1, tx.shape[-1]), ty[sorted_idx]"
   ]
  },
  {
   "cell_type": "code",
   "execution_count": null,
   "id": "australian-behavior",
   "metadata": {},
   "outputs": [],
   "source": [
    "def get_features(path, norm=True):\n",
    "    data = np.load(path)\n",
    "    ss, st = data['s'], data['t']\n",
    "    ssx, ssy = ss[:, :-1], ss[:, -1]\n",
    "    stx, sty = st[:, :-1], st[:, -1]\n",
    "    if norm:\n",
    "        return normalize(ssx), ssy, normalize(stx), sty\n",
    "    return ssx, ssy, stx, sty"
   ]
  },
  {
   "cell_type": "code",
   "execution_count": null,
   "id": "spoken-jewel",
   "metadata": {},
   "outputs": [],
   "source": [
    "for s, t in permutations(range(4), 2):\n",
    "    s_path = f'./OfficeHome/fixbi/s{s}_t{t}.npz'\n",
    "    t_path = f'./OfficeHome/fixbi/s{t}_t{s}.npz'\n",
    "    \n",
    "    ssx, ssy, stx, sty = get_features(s_path)\n",
    "    ttx, tty, tsx, tsy = get_features(t_path)\n",
    "    \n",
    "    c1 = LinearSVC(random_state=1126, C=0.1, max_iter=5000)\n",
    "    c1.fit(ssx, ssy)\n",
    "    print(c1.score(stx, sty))\n",
    "#     label = c1.predict(stx)\n",
    "#     new_tx = np.stack([stx[label == i].mean(axis=0) for i in range(65)])\n",
    "#     new_ty = np.arange(65)\n",
    "    \n",
    "#     old_sx = np.stack([ssx[ssy == i].mean(axis=0) for i in range(65)])\n",
    "    \n",
    "#     dist = cdist(old_sx, new_tx)\n",
    "#     for i in range(65):\n",
    "#         new_dist = cdist(old_sx[i].reshape(1, -1), ssx[ssy == i]).mean()\n",
    "#         t_dist = cdist(old_sx[i].reshape(1, -1), stx[label == i]).mean()\n",
    "#         print(dist[i, i], new_dist, t_dist)\n",
    "#     break"
   ]
  },
  {
   "cell_type": "markdown",
   "id": "contrary-earth",
   "metadata": {},
   "source": [
    "#### different space center comparison"
   ]
  },
  {
   "cell_type": "code",
   "execution_count": null,
   "id": "absolute-remedy",
   "metadata": {
    "scrolled": true
   },
   "outputs": [],
   "source": [
    "for s, t in permutations(range(4), 2):\n",
    "    s_path = f'./OfficeHome/fixbi/s{s}_t{t}.npz'\n",
    "    t_path = f'./OfficeHome/fixbi/s{t}_t{s}.npz'\n",
    "    \n",
    "    ssx, ssy, stx, sty = get_features(s_path)\n",
    "    ttx, tty, tsx, tsy = get_features(t_path)\n",
    "    \n",
    "    ssc = np.stack([ssx[ssy == i].mean(axis=0) for i in range(65)])\n",
    "    tsc = np.stack([tsx[tsy == i].mean(axis=0) for i in range(65)])  \n",
    "    \n",
    "    stc = np.stack([stx[sty == i].mean(axis=0) for i in range(65)])\n",
    "    ttc = np.stack([ttx[tty == i].mean(axis=0) for i in range(65)])\n",
    "    \n",
    "    l = [('ssc', ssc), ('tsc', tsc), ('stc', stc), ('ttc', ttc)]\n",
    "    for i in range(65):\n",
    "        print(f'class{i}')\n",
    "        for a, b in combinations(l, 2):\n",
    "            al, av = a\n",
    "            bl, bv = b\n",
    "            print(f'{al}<->{bl}: {norm(av[i] - bv[i])}')\n",
    "    break"
   ]
  },
  {
   "cell_type": "markdown",
   "id": "moderate-paragraph",
   "metadata": {},
   "source": [
    "#### cbmix"
   ]
  },
  {
   "cell_type": "code",
   "execution_count": null,
   "id": "devoted-string",
   "metadata": {},
   "outputs": [],
   "source": [
    "for s, t in permutations(range(4), 2):\n",
    "    s, t = 0, 3\n",
    "    print(f'source {s}, target {t}')\n",
    "    path = f'./OfficeHome/fixbi/s{s}_t{t}.npz'\n",
    "    c_path = f'./OfficeHome/cbmix_perfect/s{s}_t{t}.npz'\n",
    "    \n",
    "    sx, sy, _, _ = get_features(path)\n",
    "    csx, csy, ctx, cty = get_features(c_path)\n",
    "    \n",
    "    c1 = LinearSVC(random_state=12458, C=0.1, max_iter=5000)\n",
    "    c1.fit(sx, sy)\n",
    "\n",
    "    print(c1.score(csx, csy), c1.score(ctx, cty))\n",
    "    break"
   ]
  },
  {
   "cell_type": "markdown",
   "id": "artistic-porcelain",
   "metadata": {},
   "source": [
    "#### mixup_perfect"
   ]
  },
  {
   "cell_type": "code",
   "execution_count": null,
   "id": "german-niger",
   "metadata": {
    "scrolled": false
   },
   "outputs": [],
   "source": [
    "for s, t in permutations(range(4), 2):\n",
    "    s, t = 1, 0\n",
    "    print(f'source {s}, target {t}')\n",
    "    path = f'./OfficeHome/fixbi/s{s}_t{t}.npz'\n",
    "    c_path = f'./OfficeHome/mixup_perfect/s{s}_t{t}.npz'\n",
    "    \n",
    "    sx, sy, _, _ = get_features(path)\n",
    "    csx, csy, ctx, cty = get_features(c_path)\n",
    "    print(csy)\n",
    "    c1 = LinearSVC(random_state=12458, C=0.1, max_iter=5000)\n",
    "    c1.fit(sx, sy)\n",
    "\n",
    "    print(c1.score(csx, csy), c1.score(ctx, cty))\n",
    "    break"
   ]
  },
  {
   "cell_type": "markdown",
   "id": "mobile-maria",
   "metadata": {},
   "source": [
    "### nearest neighbor for stx center"
   ]
  },
  {
   "cell_type": "code",
   "execution_count": null,
   "id": "different-event",
   "metadata": {},
   "outputs": [],
   "source": [
    "# for s, t in permutations(range(4), 2):\n",
    "    s_path = f'./OfficeHome/fixbi/s{s}_t{t}.npz'\n",
    "    t_path = f'./OfficeHome/fixbi/s{t}_t{s}.npz'\n",
    "    \n",
    "    ssx, ssy, stx, sty = get_features(s_path)\n",
    "    ttx, tty, tsx, tsy = get_features(t_path)\n",
    "    \n",
    "    c1 = LinearSVC(random_state=12458, C=0.1, max_iter=5000)\n",
    "    c1.fit(ssx, ssy)\n",
    "\n",
    "    label = c1.predict(stx)\n",
    "    new_tx = np.stack([stx[label == i].mean(axis=0) for i in range(65)])\n",
    "    new_ty = np.arange(65)\n",
    "    \n",
    "    dist = cdist(new_tx, stx)\n",
    "    sorted_idx = np.argsort(dist, axis=1)[:, 0]\n",
    "    cand_x, ans_y = stx[sorted_idx], sty[sorted_idx]\n",
    "    print(((ans_y) == new_ty).mean())\n",
    "    break"
   ]
  },
  {
   "cell_type": "markdown",
   "id": "earned-aircraft",
   "metadata": {},
   "source": [
    "#### center comparison for imagenet parameters"
   ]
  },
  {
   "cell_type": "code",
   "execution_count": null,
   "id": "behind-questionnaire",
   "metadata": {
    "scrolled": true
   },
   "outputs": [],
   "source": [
    "for s, t in permutations(range(4), 2):\n",
    "    data_path = f'./OfficeHome/image_net/s{s}_t{t}.npz'\n",
    "    \n",
    "    sx, sy, tx ,ty = get_features(data_path)\n",
    "    \n",
    "    c1 = LinearSVC(random_state=12458, C=0.1, max_iter=5000)\n",
    "    c1.fit(sx, sy)\n",
    "    t_pred = c1.predict(tx)\n",
    "    c2 = LinearSVC(random_state=1245, C=0.1, max_iter=5000)\n",
    "    c2.fit(tx, ty)\n",
    "    s_pred = c2.predict(sx)\n",
    "    \n",
    "    truth = np.arange(65)\n",
    "    sc = np.stack([sx[sy == i].mean(axis=0) for i in range(65)])\n",
    "    tpc = np.stack([tx[t_pred == i].mean(axis=0) for i in range(65)])\n",
    "    spc = np.stack([sx[s_pred == i].mean(axis=0) for i in range(65)])\n",
    "    tc = np.stack([tx[ty == i].mean(axis=0) for i in range(65)])\n",
    "    \n",
    "    l = [('sc', sc), ('tpc', tpc), ('spc', spc), ('tc', tc)]\n",
    "    for i in range(65):\n",
    "        print(f'class{i}')\n",
    "        for a, b in combinations(l, 2):\n",
    "            al, av = a\n",
    "            bl, bv = b\n",
    "            print(f'{al}<->{bl}: {norm(av[i] - bv[i])}')\n",
    "        print('sc<->other s:', cdist(sc[i].reshape(1, -1), sx[sy == i]).mean())\n",
    "        print('tc<->other t:', cdist(tc[i].reshape(1, -1), tx[ty == i]).mean())\n",
    "    break"
   ]
  },
  {
   "cell_type": "markdown",
   "id": "ahead-holiday",
   "metadata": {},
   "source": [
    "#### distance between stx center and ssx center"
   ]
  },
  {
   "cell_type": "code",
   "execution_count": null,
   "id": "still-albania",
   "metadata": {
    "scrolled": true
   },
   "outputs": [],
   "source": [
    "for s, t in permutations(range(4), 2):\n",
    "    s_path = f'./OfficeHome/fixbi/s{s}_t{t}.npz'\n",
    "    t_path = f'./OfficeHome/fixbi/s{t}_t{s}.npz'\n",
    "    \n",
    "    ssx, ssy, stx, sty = get_features(s_path)\n",
    "    ttx, tty, tsx, tsy = get_features(t_path)\n",
    "    \n",
    "    c1 = LinearSVC(random_state=1126, C=0.1, max_iter=5000)\n",
    "    c1.fit(ssx, ssy)\n",
    "\n",
    "    label = c1.predict(stx)\n",
    "    new_tx = np.stack([stx[label == i].mean(axis=0) for i in range(65)])\n",
    "    new_ty = np.arange(65)\n",
    "    \n",
    "    old_sx = np.stack([ssx[ssy == i].mean(axis=0) for i in range(65)])\n",
    "    \n",
    "    dist = cdist(old_sx, new_tx)\n",
    "    for i in range(65):\n",
    "        new_dist = cdist(old_sx[i].reshape(1, -1), ssx[ssy == i]).mean()\n",
    "        t_dist = cdist(old_sx[i].reshape(1, -1), stx[label == i]).mean()\n",
    "        print(dist[i, i], new_dist, t_dist)\n",
    "    break"
   ]
  },
  {
   "cell_type": "code",
   "execution_count": null,
   "id": "running-leave",
   "metadata": {},
   "outputs": [],
   "source": [
    "avg = 0\n",
    "for s, t in permutations(range(4), 2):\n",
    "    s_path = f'./OfficeHome/fixbi/s{s}_t{t}.npz'\n",
    "    t_path = f'./OfficeHome/fixbi/s{t}_t{s}.npz'\n",
    "    \n",
    "    ssx, ssy, stx, sty = get_features(s_path)\n",
    "    ttx, tty, tsx, tsy = get_features(t_path)\n",
    "    \n",
    "    c1 = LinearSVC(random_state=1126, C=0.1, max_iter=5000)\n",
    "    c1.fit(ssx, ssy)\n",
    "\n",
    "    s_acc = c1.score(stx, sty)\n",
    "    \n",
    "    c2 = LinearSVC(random_state=1126, C=0.1, max_iter=5000)\n",
    "    c2.fit(tsx, tsy)\n",
    "    \n",
    "    t_acc = c2.score(ttx, tty)\n",
    "    avg += t_acc\n",
    "    print('-'*10, f'source {s}, target {t}', '-'*10)\n",
    "    print(f'source acc: {s_acc}')\n",
    "    print(f'target acc: {t_acc}')\n",
    "print('Avg acc.:', avg/12)"
   ]
  },
  {
   "cell_type": "code",
   "execution_count": null,
   "id": "center-beads",
   "metadata": {},
   "outputs": [],
   "source": [
    "th = 3\n",
    "alpha = 0.1\n",
    "num_iter = 1\n",
    "ratio = 0.2"
   ]
  },
  {
   "cell_type": "code",
   "execution_count": null,
   "id": "designed-hollow",
   "metadata": {
    "scrolled": true
   },
   "outputs": [],
   "source": [
    "avg = 0\n",
    "s_avg = 0\n",
    "for s, t in permutations(range(4), 2):\n",
    "    s_path = f'./OfficeHome/fixbi/s{s}_t{t}.npz'\n",
    "    t_path = f'./OfficeHome/fixbi/s{t}_t{s}.npz'\n",
    "    ssx, ssy, stx, sty = get_features(s_path)\n",
    "    ttx, tty, tsx, tsy = get_features(t_path)\n",
    "\n",
    "    train_x, ans_y = cbpl(tsx, tsy, ttx, tty, th=th, num_iter=num_iter, alpha=alpha)\n",
    "    train_y = np.tile(np.arange(65).reshape(-1, 1), th).flatten()\n",
    "    print('-'*10, f'source {s}, target {t}', '-'*10)\n",
    "    print('CBPL acc:', (ans_y.reshape(-1) == train_y).mean())\n",
    "\n",
    "    c = LinearSVC(random_state=1126, C=0.1, max_iter=5000)\n",
    "    c.fit(train_x, train_y)\n",
    "\n",
    "    t_acc = c.score(ttx, tty)\n",
    "    s_acc = c.score(tsx, tsy)\n",
    "    avg += t_acc\n",
    "    s_avg += s_acc\n",
    "    print('test accuracy:', t_acc)\n",
    "    print('source accuracy:', s_acc)\n",
    "print('Avg acc.:', avg/12)\n",
    "print('S Avg acc.:', s_avg/12)"
   ]
  },
  {
   "cell_type": "code",
   "execution_count": null,
   "id": "unable-defendant",
   "metadata": {
    "scrolled": true
   },
   "outputs": [],
   "source": [
    "for s, t in permutations(range(4), 2):\n",
    "    s_path = f'./OfficeHome/fixbi/s{s}_t{t}.npz'\n",
    "  \n",
    "    ssx, ssy, stx, sty = get_features(s_path)\n",
    "\n",
    "    ssc = np.stack([ssx[ssy == i].mean(axis=0) for i in range(65)])    \n",
    "    stc = np.stack([stx[sty == i].mean(axis=0) for i in range(65)])\n",
    "    \n",
    "    c1 = LinearSVC(random_state=13743, C=0.1, max_iter=5000)\n",
    "    c1.fit(ssx, ssy)\n",
    "    \n",
    "    st_pred = c1.predict(stx)\n",
    "    \n",
    "    for i in range(65):\n",
    "        print(f'class {i}')\n",
    "        # pred 0 data in target\n",
    "        same_mean = stx[(st_pred == i) & (sty == i)].mean(axis=0)\n",
    "        # True 0 data in target\n",
    "        diff_mean = stx[(st_pred != i) & (sty == i)].mean(axis=0)\n",
    "\n",
    "        pred_mean = stx[st_pred == i].mean(axis=0)\n",
    "        s_dist = cdist(ssc[i].reshape(1, -1), ssx[ssy == i]).mean()\n",
    "        \n",
    "#         print(f'Correct mean <-> target center: {norm(same_mean-stc[i])}')\n",
    "#         print(f'Incorrect mean <-> target center: {norm(diff_mean-stc[i])}')\n",
    "        print(f'Source center <-> target center: {norm(ssc[i] - stc[i])}')\n",
    "        print(f'Source center <-> pred target center: {norm(pred_mean - ssc[i])}')\n",
    "        print(f'Predict target center <-> target center: {norm(pred_mean - stc[i])}')\n",
    "        print(f'Source avg dist: {s_dist}')\n",
    "#         print(f'Accuracy: {c1.score(stx[sty == i], i*np.ones((sty == i).sum()))}')\n",
    "    print(ssy.shape, sty.shape)\n",
    "    break"
   ]
  },
  {
   "cell_type": "markdown",
   "id": "willing-audience",
   "metadata": {},
   "source": [
    "#### See varaince"
   ]
  },
  {
   "cell_type": "code",
   "execution_count": null,
   "id": "portable-farming",
   "metadata": {},
   "outputs": [],
   "source": [
    "for s, t in permutations(range(4), 2):\n",
    "    s_path = f'./OfficeHome/fixbi/s{s}_t{t}.npz'\n",
    "  \n",
    "    ssx, ssy, stx, sty = get_features(s_path, norm=False)\n",
    "\n",
    "    ssc = np.stack([ssx[ssy == i].mean(axis=0) for i in range(65)])    \n",
    "    stc = np.stack([stx[sty == i].mean(axis=0) for i in range(65)])\n",
    "    \n",
    "    c1 = LinearSVC(random_state=13743, C=0.1, max_iter=5000)\n",
    "    c1.fit(ssx, ssy)\n",
    "    \n",
    "    st_pred = c1.predict(stx)\n",
    "    \n",
    "    for i in range(65):\n",
    "        print(f'class {i}')\n",
    "        true_tx = ssx[ssy == i]\n",
    "        norm_true_tx = (true_tx - true_tx.mean(axis=0))/true_tx.std(axis=0)\n",
    "        \n",
    "        print(norm_true_tx)\n",
    "        break\n",
    "#         pred_tx = stx[st_pred == i]\n",
    "#         norm_pred_tx = (pred_tx - pred_tx.mean(axis=0))/pred_tx.std(axis=0)\n",
    "#         print(norm(norm_pred_tx - norm_true_tx))\n",
    "    break"
   ]
  },
  {
   "cell_type": "markdown",
   "id": "going-malpractice",
   "metadata": {},
   "source": [
    "#### with / without normalization"
   ]
  },
  {
   "cell_type": "code",
   "execution_count": null,
   "id": "recorded-creation",
   "metadata": {
    "scrolled": true
   },
   "outputs": [],
   "source": [
    "for s, t in permutations(range(4), 2):\n",
    "    s_path = f'./OfficeHome/fixbi/s{s}_t{t}.npz'\n",
    "    sx, sy, tx, ty = get_features(s_path, norm=False)\n",
    "    nsx, nsy, ntx, nty = get_features(s_path)\n",
    "\n",
    "    sc = np.stack([sx[sy == i].mean(axis=0) for i in range(65)])    \n",
    "    tc = np.stack([tx[ty == i].mean(axis=0) for i in range(65)])\n",
    "    \n",
    "    c1 = LinearSVC(random_state=13743, C=0.1, max_iter=5000)\n",
    "    c1.fit(sx, sy)\n",
    "    \n",
    "    nsc = np.stack([nsx[nsy == i].mean(axis=0) for i in range(65)])    \n",
    "    ntc = np.stack([ntx[nty == i].mean(axis=0) for i in range(65)])\n",
    "    \n",
    "    c2 = LinearSVC(random_state=13743, C=0.1, max_iter=5000)\n",
    "    c2.fit(nsx, nsy)\n",
    "    \n",
    "    labels = np.arange(65)\n",
    "    print(c1.score(tc, labels), c2.score(ntc, labels))"
   ]
  },
  {
   "cell_type": "code",
   "execution_count": null,
   "id": "alleged-northeast",
   "metadata": {},
   "outputs": [],
   "source": [
    "def prototype_classifier(X, C, th=2):\n",
    "    dist = cdist(C, X)\n",
    "    prob = softmax(-dist, axis=0)\n",
    "    return prob.argsort(axis=0)[-th:, :].astype(float), prob"
   ]
  },
  {
   "cell_type": "markdown",
   "id": "independent-mailman",
   "metadata": {},
   "source": [
    "#### Prototypical Classifier with multiple pseudo center"
   ]
  },
  {
   "cell_type": "code",
   "execution_count": null,
   "id": "original-copper",
   "metadata": {
    "scrolled": false
   },
   "outputs": [],
   "source": [
    "avg = 0\n",
    "label_dict = {i: (a, b) for i, (a, b) in enumerate(combinations(range(65), 2))}\n",
    "for s, t in permutations(range(4), 2):  \n",
    "    s_path = f'./OfficeHome/fixbi/s{s}_t{t}.npz'\n",
    "    ssx, ssy, stx, sty = get_features(s_path, norm=False)\n",
    "    sty = sty.astype(float)\n",
    "    ssc = np.stack([ssx[ssy == i].mean(axis = 0) for i in range(65)])\n",
    "    \n",
    "    pred, prob = prototype_classifier(stx, ssc, th=2)\n",
    "    p = np.array([True if y in pr else False for y, pr in zip(sty, pred.T)], dtype=bool)\n",
    "    score = p.mean()\n",
    "#     conf = prob.max(axis=0)\n",
    "#     cri = conf > 0.8\n",
    "#     good_pred, good_y = pred[cri], sty[cri]\n",
    "#     remain_x, remain_y = stx[~cri], sty[~cri]\n",
    "    \n",
    "#     remain_pred, remain_prob = prototype_classifier(remain_x, psc)\n",
    "#     remain_pred = [label_dict[int(i)] for i in remain_pred]\n",
    "#     cor_pred = []\n",
    "#     p, tot = 0, 0\n",
    "#     for (a, b), x, y in zip(remain_pred, remain_x, remain_y):\n",
    "#         a_norm = norm(ssc[int(a)] - x)\n",
    "#         b_norm = norm(ssc[int(b)] - x)\n",
    "#         cor_pred.append(a if a_norm < b_norm else b)\n",
    "#         if y in [a, b]:\n",
    "#             tot += 1\n",
    "#             if y == cor_pred[-1]:\n",
    "#                 p += 1\n",
    "#     cor_pred = np.array(cor_pred, dtype=float)\n",
    "    \n",
    "#     all_pred = np.r_[good_pred, cor_pred]\n",
    "#     all_y = np.r_[good_y, remain_y]\n",
    "#     cor_score = p/tot\n",
    "#     score = (all_pred == all_y).mean()\n",
    "    \n",
    "#     pred = [label_dict[int(i)] for i in pred]\n",
    "    \n",
    "#     cor_pred = []\n",
    "#     p, tot = 0, 0\n",
    "#     for (a, b), x, y in zip(pred, stx, sty):\n",
    "        \n",
    "#         a_norm = norm(ssc[int(a)] - x)\n",
    "#         b_norm = norm(ssc[int(b)] - x)\n",
    "#         cor_pred.append(a if a_norm < b_norm else b)\n",
    "#         if a != b:\n",
    "#             tot+=1\n",
    "#             if y == cor_pred[-1]:\n",
    "#                 p += 1\n",
    "#     cor_pred = np.array(cor_pred, dtype=float)\n",
    "#     correct = np.array([True if y in p else False for y, p in zip(sty, pred)])\n",
    "#     score = correct.mean()\n",
    "#     pred = prototype_classifier(stx, ssc)\n",
    "#     print('-'*10, f'source {s}, target {t}', '-'*10)\n",
    "#     print(tot / len(remain_y))\n",
    "#     print(cor_score)\n",
    "    print(score)\n",
    "    avg += score\n",
    "print('Avg acc.:', avg/12)"
   ]
  },
  {
   "cell_type": "markdown",
   "id": "stone-parameter",
   "metadata": {},
   "source": [
    "#### svm for source @ source space"
   ]
  },
  {
   "cell_type": "code",
   "execution_count": null,
   "id": "existing-appraisal",
   "metadata": {},
   "outputs": [],
   "source": [
    "avg = 0\n",
    "for s, t in permutations(range(4), 2):\n",
    "    s_path = f'./OfficeHome/fixbi/s{s}_t{t}.npz'\n",
    "    ssx, ssy, stx, sty = get_features(s_path, norm=False)\n",
    "    \n",
    "    c1 = LinearSVC(random_state=1128, C=0.1, max_iter=5000)\n",
    "    c1.fit(ssx, ssy)\n",
    "    pred = c1.predict(stx)\n",
    "    score = (pred == sty).mean()\n",
    "    print('-'*10, f'source {s}, target {t}', '-'*10)\n",
    "    print(score)\n",
    "    avg += score\n",
    "print('Avg acc.:', avg/12)"
   ]
  },
  {
   "cell_type": "markdown",
   "id": "marked-sussex",
   "metadata": {},
   "source": [
    "#### svm for source center @ source space"
   ]
  },
  {
   "cell_type": "code",
   "execution_count": null,
   "id": "velvet-value",
   "metadata": {},
   "outputs": [],
   "source": [
    "avg = 0\n",
    "for s, t in permutations(range(4), 2):\n",
    "    s_path = f'./OfficeHome/fixbi/s{s}_t{t}.npz'\n",
    "    ssx, ssy, stx, sty = get_features(s_path, norm=False)\n",
    "    \n",
    "    ssc = np.stack([ssx[ssy == i].mean(axis = 0) for i in range(65)])\n",
    "    c1 = LinearSVC(random_state=1128, C=0.1, max_iter=5000)\n",
    "    labels = np.arange(65)\n",
    "    c1.fit(ssc, labels)\n",
    "    pred = c1.predict(stx)\n",
    "    score = (pred == sty).mean()\n",
    "    print('-'*10, f'source {s}, target {t}', '-'*10)\n",
    "    print(score)\n",
    "    avg += score\n",
    "print('Avg acc.:', avg/12)"
   ]
  },
  {
   "cell_type": "markdown",
   "id": "quality-conservation",
   "metadata": {},
   "source": [
    "#### Prototypical Classifier @ Source Space"
   ]
  },
  {
   "cell_type": "code",
   "execution_count": null,
   "id": "approved-barrier",
   "metadata": {
    "scrolled": false
   },
   "outputs": [],
   "source": [
    "avg = 0\n",
    "for s, t in permutations(range(4), 2):\n",
    "    s_path = f'./OfficeHome/fixbi/s{s}_t{t}.npz'\n",
    "    ssx, ssy, stx, sty = get_features(s_path, norm=False)\n",
    "    \n",
    "    ssc = np.stack([ssx[ssy == i].mean(axis = 0) for i in range(65)])\n",
    "    pred, prob = prototype_classifier(stx, ssc)\n",
    "    sty = sty.astype(float)\n",
    "    score = (pred == sty).mean()\n",
    "    print('-'*10, f'source {s}, target {t}', '-'*10)\n",
    "    print(score)\n",
    "    avg += score\n",
    "print('Avg acc.:', avg/12)"
   ]
  },
  {
   "cell_type": "markdown",
   "id": "changing-disclosure",
   "metadata": {},
   "source": [
    "#### Prototypical Network Classifier"
   ]
  },
  {
   "cell_type": "code",
   "execution_count": null,
   "id": "western-credits",
   "metadata": {},
   "outputs": [],
   "source": [
    "avg = 0\n",
    "for s, t in permutations(range(4), 2):\n",
    "    s_path = f'./OfficeHome/fixbi/s{s}_t{t}.npz'\n",
    "    t_path = f'./OfficeHome/fixbi/s{t}_t{s}.npz'\n",
    "    ssx, ssy, stx, sty = get_features(s_path, norm=False)\n",
    "    ttx, tty, tsx, tsy = get_features(t_path, norm=False)\n",
    "    \n",
    "    tsc = np.stack([tsx[tsy == i].mean(axis=0) for i in range(65)])\n",
    "    ttc = np.stack([ttx[tty == i].mean(axis=0) for i in range(65)])\n",
    "    labels = np.arange(65)\n",
    "    print('-'*10, f'source {s}, target {t}', '-'*10)\n",
    "    pred = prototype_classifier(ttx, tsc)\n",
    "    tty = tty.astype(float)\n",
    "    score = (pred == tty).mean()\n",
    "#     print('-'*10, f'source {s}, target {t}', '-'*10)\n",
    "#     score = c1.score(ttx, tty)\n",
    "    print(score)\n",
    "    avg += score\n",
    "print('Avg acc.:', avg/12)"
   ]
  },
  {
   "cell_type": "markdown",
   "id": "mysterious-waters",
   "metadata": {},
   "source": [
    "#### without pseudo labeling on target space"
   ]
  },
  {
   "cell_type": "code",
   "execution_count": null,
   "id": "fifty-buffer",
   "metadata": {},
   "outputs": [],
   "source": [
    "avg = 0\n",
    "for s, t in permutations(range(4), 2):\n",
    "    s_path = f'./OfficeHome/fixbi/s{s}_t{t}.npz'\n",
    "    t_path = f'./OfficeHome/fixbi/s{t}_t{s}.npz'\n",
    "    ssx, ssy, stx, sty = get_features(s_path, norm=False)\n",
    "    ttx, tty, tsx, tsy = get_features(t_path, norm=False)\n",
    "    \n",
    "    tsc = np.stack([tsx[tsy == i].mean(axis=0) for i in range(65)])\n",
    "    ttc = np.stack([ttx[tty == i].mean(axis=0) for i in range(65)])\n",
    "    labels = np.arange(65)\n",
    "    \n",
    "    c1 = LinearSVC(random_state=14582, C=0.1, max_iter=5000)\n",
    "    c1.fit(tsc, labels)\n",
    "    print('-'*10, f'source {s}, target {t}', '-'*10)\n",
    "    score = c1.score(ttx, tty)\n",
    "    print(score)\n",
    "    avg += score\n",
    "print('Avg acc.:', avg/12)"
   ]
  },
  {
   "cell_type": "code",
   "execution_count": null,
   "id": "convinced-generator",
   "metadata": {
    "scrolled": true
   },
   "outputs": [],
   "source": [
    "avg = 0\n",
    "for s, t in permutations(range(4), 2):\n",
    "    s_path = f'./OfficeHome/fixbi/s{s}_t{t}.npz'\n",
    "    t_path = f'./OfficeHome/fixbi/s{t}_t{s}.npz'\n",
    "    ssx, ssy, stx, sty = get_features(s_path, norm=False)\n",
    "    ttx, tty, tsx, tsy = get_features(t_path, norm=False)\n",
    "    \n",
    "    c1 = LinearSVC(random_state=13241, C=0.1, max_iter=5000)\n",
    "    c1.fit(tsx, tsy)\n",
    "    print('-'*10, f'source {s}, target {t}', '-'*10)\n",
    "    score = c1.score(ttx, tty)\n",
    "    print(score)\n",
    "    avg += score\n",
    "print('Avg acc.:', avg/12)"
   ]
  },
  {
   "cell_type": "markdown",
   "id": "designing-zoning",
   "metadata": {},
   "source": [
    "#### Hyper parameter selection"
   ]
  },
  {
   "cell_type": "code",
   "execution_count": null,
   "id": "modular-terrace",
   "metadata": {},
   "outputs": [],
   "source": [
    "# rng = np.random.default_rng(12345)\n",
    "c_list = [1e-4, 1e-3, 1e-2, 1e-1, 1, 10]\n",
    "total_avg = []\n",
    "for c in c_list:\n",
    "    avg = 0\n",
    "    for s, t in permutations(range(4), 2):\n",
    "        s_path = f'./OfficeHome/fixbi/s{s}_t{t}.npz'\n",
    "        t_path = f'./OfficeHome/fixbi/s{t}_t{s}.npz'\n",
    "        ssx, ssy, stx, sty = get_features(s_path, norm=False)\n",
    "        ttx, tty, tsx, tsy = get_features(t_path, norm=False)\n",
    "\n",
    "        tsc = np.stack([tsx[tsy == i].mean(axis=0) for i in range(65)])\n",
    "        ttc = np.stack([ttx[tty == i].mean(axis=0) for i in range(65)])\n",
    "        labels = np.arange(65)\n",
    "\n",
    "        c1 = LinearSVC(random_state=12453, C=c, max_iter=5000)\n",
    "#         c1.fit(tsc, labels)\n",
    "        c1.fit(tsx, tsy)\n",
    "#         print('-'*10, f'source {s}, target {t}', '-'*10)\n",
    "        score = c1.score(ttx, tty)\n",
    "#         print(score)\n",
    "        avg += score\n",
    "    print(f'C = {c}, Avg acc.:', avg/12)\n",
    "    total_avg.append(avg/12)\n",
    "print('Total Avg acc.:', np.mean(total_avg))\n",
    "print('std:', np.std(total_avg))"
   ]
  }
 ],
 "metadata": {
  "kernelspec": {
   "display_name": "Python 3",
   "language": "python",
   "name": "python3"
  },
  "language_info": {
   "codemirror_mode": {
    "name": "ipython",
    "version": 3
   },
   "file_extension": ".py",
   "mimetype": "text/x-python",
   "name": "python",
   "nbconvert_exporter": "python",
   "pygments_lexer": "ipython3",
   "version": "3.8.5"
  }
 },
 "nbformat": 4,
 "nbformat_minor": 5
}
