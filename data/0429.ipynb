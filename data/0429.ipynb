{
 "cells": [
  {
   "cell_type": "code",
   "execution_count": 4,
   "id": "intelligent-exploration",
   "metadata": {},
   "outputs": [],
   "source": [
    "from scipy.spatial.distance import cdist\n",
    "from scipy.stats import mode\n",
    "import numpy as np\n",
    "from sklearn.svm import LinearSVC\n",
    "from sklearn.linear_model import SGDClassifier\n",
    "from itertools import permutations, combinations\n",
    "\n",
    "from numpy.random import default_rng\n",
    "from numpy.linalg import norm\n",
    "from scipy.special import softmax\n",
    "from collections import Counter\n",
    "from pathlib import Path\n",
    "from sklearn.cluster import KMeans\n",
    "\n",
    "def normalize(x):\n",
    "    return (x - x.mean(axis=0))/x.std(axis=0)\n",
    "\n",
    "def get_features(path, norm=True):\n",
    "    data = np.load(path)\n",
    "    ss, st = data['s'], data['t']\n",
    "    ssx, ssy = ss[:, :-1], ss[:, -1]\n",
    "    stx, sty = st[:, :-1], st[:, -1]\n",
    "    if norm:\n",
    "        return normalize(ssx), ssy, normalize(stx), sty\n",
    "    return ssx, ssy, stx, sty\n",
    "\n",
    "def prototype_classifier(X, C, th=1):\n",
    "    dist = cdist(C, X)\n",
    "    prob = softmax(-dist, axis=0)\n",
    "#     prob = softmax(1/(1+dist), axis=0)\n",
    "    if th == 1:\n",
    "        return prob.argmax(axis=0), prob\n",
    "    return prob.argsort(axis=0)[-th:][::-1, :], prob\n",
    "\n",
    "# def prototype_classifier(X, C):\n",
    "#     dist = cdist(C, X)\n",
    "#     prob = softmax(-dist, axis=0)\n",
    "#     return prob.T\n",
    "\n",
    "def masked_prototypical_classifier(X, C, ratio=0.3, seed=2437, th=2):\n",
    "    rng = np.random.default_rng(seed)\n",
    "    masked_idx = ~rng.binomial(1, ratio, X.shape[1]).astype(bool)\n",
    "    return prototype_classifier(X[:, masked_idx], C[:, masked_idx], th=th)"
   ]
  },
  {
   "cell_type": "code",
   "execution_count": 6,
   "id": "considered-lucas",
   "metadata": {},
   "outputs": [
    {
     "name": "stdout",
     "output_type": "stream",
     "text": [
      "[17 62  0 ... 56 64 64]\n",
      "Avg acc.: 0.0\n"
     ]
    }
   ],
   "source": [
    "avg = 0\n",
    "for s, t in permutations(range(4), 2):\n",
    "    s_path = f'./OfficeHome/image_net/s{s}_t{t}.npz'\n",
    "    sx, sy, tx, ty = get_features(s_path, norm=False)\n",
    "    sc = np.stack([sx[sy == i].mean(axis=0) for i in range(65)])  \n",
    "    pred, _ = prototype_classifier(tx, sc)\n",
    "    \n",
    "    \n",
    "#     mean = np.stack([np.average(stx, axis=0, weights=prob[i]) for i in range(65)])\n",
    "    \n",
    "#     pred, _ = prototype_classifier(stx, mean)\n",
    "    \n",
    "#     score = (pred == sty).mean()\n",
    "#     print('-'*10, f'source {s}, target {t}', '-'*10)\n",
    "#     print(score)\n",
    "#     avg += score\n",
    "    break\n",
    "print('Avg acc.:', avg/12)"
   ]
  }
 ],
 "metadata": {
  "kernelspec": {
   "display_name": "Python 3",
   "language": "python",
   "name": "python3"
  },
  "language_info": {
   "codemirror_mode": {
    "name": "ipython",
    "version": 3
   },
   "file_extension": ".py",
   "mimetype": "text/x-python",
   "name": "python",
   "nbconvert_exporter": "python",
   "pygments_lexer": "ipython3",
   "version": "3.8.5"
  }
 },
 "nbformat": 4,
 "nbformat_minor": 5
}
