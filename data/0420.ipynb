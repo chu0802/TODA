{
 "cells": [
  {
   "cell_type": "code",
   "execution_count": 2,
   "id": "weekly-conducting",
   "metadata": {},
   "outputs": [],
   "source": [
    "from scipy.spatial.distance import cdist\n",
    "from scipy.stats import mode\n",
    "import numpy as np\n",
    "from sklearn.svm import LinearSVC\n",
    "from sklearn.linear_model import SGDClassifier\n",
    "from itertools import permutations, combinations\n",
    "\n",
    "from numpy.random import default_rng\n",
    "from numpy.linalg import norm\n",
    "from scipy.special import softmax\n",
    "from collections import Counter\n",
    "from pathlib import Path\n",
    "from sklearn.cluster import KMeans\n",
    "\n",
    "def normalize(x):\n",
    "    return (x - x.mean(axis=0))/x.std(axis=0)\n",
    "\n",
    "def get_features(path, norm=True):\n",
    "    data = np.load(path)\n",
    "    ss, st = data['s'], data['t']\n",
    "    ssx, ssy = ss[:, :-1], ss[:, -1]\n",
    "    stx, sty = st[:, :-1], st[:, -1]\n",
    "    if norm:\n",
    "        return normalize(ssx), ssy, normalize(stx), sty\n",
    "    return ssx, ssy, stx, sty\n",
    "\n",
    "def prototype_classifier(X, C, th=1):\n",
    "    dist = cdist(C, X)\n",
    "    prob = softmax(-dist, axis=0)\n",
    "#     prob = softmax(1/(1+dist), axis=0)\n",
    "    return prob.argsort(axis=0)[-th:][::-1, :], prob\n",
    "\n",
    "# def prototype_classifier(X, C):\n",
    "#     dist = cdist(C, X)\n",
    "#     prob = softmax(-dist, axis=0)\n",
    "#     return prob.T\n",
    "\n",
    "def masked_prototypical_classifier(X, C, ratio=0.3, seed=2437, th=2):\n",
    "    rng = np.random.default_rng(seed)\n",
    "    masked_idx = ~rng.binomial(1, ratio, X.shape[1]).astype(bool)\n",
    "    return prototype_classifier(X[:, masked_idx], C[:, masked_idx], th=th)"
   ]
  },
  {
   "cell_type": "markdown",
   "id": "recorded-pastor",
   "metadata": {},
   "source": [
    "#### EM Algorithm"
   ]
  },
  {
   "cell_type": "code",
   "execution_count": null,
   "id": "indoor-quebec",
   "metadata": {},
   "outputs": [],
   "source": [
    "#     alpha = prob.mean(axis=0)\n",
    "#     mean = np.stack([np.average(stx, axis=0, weights=prob[:, i]) for i in range(65)])\n",
    "#     sigma = []\n",
    "#     for i in range(65):\n",
    "#         print(i)\n",
    "#         all_sigma = np.matmul((stx-mean[i])[:, :, np.newaxis], (stx-mean[i])[:, np.newaxis, :])\n",
    "#         sigma.append(np.average(all_sigma, axis=0, weights=prob[:, i]))\n",
    "\n"
   ]
  },
  {
   "cell_type": "code",
   "execution_count": 10,
   "id": "multiple-street",
   "metadata": {
    "scrolled": false
   },
   "outputs": [
    {
     "name": "stdout",
     "output_type": "stream",
     "text": [
      "---------- source 0, target 1 ----------\n",
      "0.6604651162790698\n",
      "---------- source 0, target 2 ----------\n",
      "0.8347050754458162\n",
      "---------- source 0, target 3 ----------\n",
      "0.8173345759552656\n",
      "---------- source 1, target 0 ----------\n",
      "0.7193056731583404\n",
      "---------- source 1, target 2 ----------\n",
      "0.8026977594878829\n",
      "---------- source 1, target 3 ----------\n",
      "0.77143522833178\n",
      "---------- source 2, target 0 ----------\n",
      "0.7150719729043183\n",
      "---------- source 2, target 1 ----------\n",
      "0.6397674418604651\n",
      "---------- source 2, target 3 ----------\n",
      "0.8254892823858341\n",
      "---------- source 3, target 0 ----------\n",
      "0.7607959356477562\n",
      "---------- source 3, target 1 ----------\n",
      "0.6693023255813954\n",
      "---------- source 3, target 2 ----------\n",
      "0.8593964334705075\n",
      "Avg acc.: 0.756313901709036\n"
     ]
    }
   ],
   "source": [
    "avg = 0\n",
    "for s, t in permutations(range(4), 2):\n",
    "    s_path = f'./OfficeHome/source_only/s{s}_t{t}.npz'\n",
    "    ssx, ssy, stx, sty = get_features(s_path, norm=False)\n",
    "    ssc = np.stack([ssx[ssy == i].mean(axis=0) for i in range(65)])   \n",
    "    stc = np.stack([stx[sty == i].mean(axis=0) for i in range(65)]) \n",
    "    pred, _ = prototype_classifier(stx, stc)\n",
    "    \n",
    "#     mean = np.stack([np.average(tx, axis=0, weights=prob[i]) for i in range(65)])\n",
    "    \n",
    "#     pred, _ = prototype_classifier(tx, mean)\n",
    "    \n",
    "    score = (pred == sty).mean()\n",
    "    print('-'*10, f'source {s}, target {t}', '-'*10)\n",
    "    print(score)\n",
    "    avg += score\n",
    "print('Avg acc.:', avg/12)"
   ]
  },
  {
   "cell_type": "code",
   "execution_count": 18,
   "id": "flexible-motorcycle",
   "metadata": {
    "scrolled": false
   },
   "outputs": [
    {
     "name": "stdout",
     "output_type": "stream",
     "text": [
      "---------- source 0, target 1 ----------\n",
      "0.8004651162790698\n",
      "---------- source 0, target 2 ----------\n",
      "0.8950617283950617\n",
      "---------- source 0, target 3 ----------\n",
      "0.8646318732525629\n",
      "---------- source 1, target 0 ----------\n",
      "0.8107535986452159\n",
      "---------- source 1, target 2 ----------\n",
      "0.8950617283950617\n",
      "---------- source 1, target 3 ----------\n",
      "0.8646318732525629\n",
      "---------- source 2, target 0 ----------\n",
      "0.8107535986452159\n",
      "---------- source 2, target 1 ----------\n",
      "0.8004651162790698\n",
      "---------- source 2, target 3 ----------\n",
      "0.8646318732525629\n",
      "---------- source 3, target 0 ----------\n",
      "0.8107535986452159\n",
      "---------- source 3, target 1 ----------\n",
      "0.8004651162790698\n",
      "---------- source 3, target 2 ----------\n",
      "0.8950617283950617\n",
      "Avg acc.: 0.8427280791429775\n"
     ]
    }
   ],
   "source": [
    "avg = 0\n",
    "ratio=0.2\n",
    "for s, t in permutations(range(4), 2):\n",
    "    s_path = f'./OfficeHome/partial/s{t}_t{s}_{ratio}.npz'\n",
    "    ttx, tty, tsx, tsy = get_features(s_path, norm=False)\n",
    "    ttc = np.stack([ttx[tty == i].mean(axis=0) for i in range(65)])   \n",
    "    tsc = np.stack([tsx[tsy == i].mean(axis=0) for i in range(65)]) \n",
    "    \n",
    "    pred, _ = prototype_classifier(ttx, ttc)\n",
    "    score = (pred == tty).mean()\n",
    "    print('-'*10, f'source {s}, target {t}', '-'*10)\n",
    "    print(score)\n",
    "    avg += score\n",
    "print('Avg acc.:', avg/12)"
   ]
  },
  {
   "cell_type": "code",
   "execution_count": null,
   "id": "cooked-brunswick",
   "metadata": {},
   "outputs": [],
   "source": [
    "a = np.arange(15)\n",
    "rng = np.random.default_rng(10)\n",
    "rng.shuffle(a)\n",
    "a = a.reshape(3, 5)\n",
    "\n",
    "b = np.array([3, 7, 9]).reshape(-1, 1)\n",
    "print(a)\n",
    "print(b)\n",
    "a > b"
   ]
  },
  {
   "cell_type": "markdown",
   "id": "noble-might",
   "metadata": {},
   "source": [
    "#### prototype after information minimization"
   ]
  },
  {
   "cell_type": "code",
   "execution_count": 26,
   "id": "everyday-helicopter",
   "metadata": {
    "scrolled": false
   },
   "outputs": [
    {
     "name": "stdout",
     "output_type": "stream",
     "text": [
      "---------- source 0, target 1 ----------\n",
      "0.5516279069767441\n",
      "---------- source 0, target 2 ----------\n",
      "0.7347965249199817\n",
      "---------- source 0, target 3 ----------\n",
      "0.7732991612301957\n",
      "---------- source 1, target 0 ----------\n",
      "0.5804403048264183\n",
      "---------- source 1, target 2 ----------\n",
      "0.6943301326017376\n",
      "---------- source 1, target 3 ----------\n",
      "0.6926840633737186\n",
      "---------- source 2, target 0 ----------\n",
      "0.5948348856900931\n",
      "---------- source 2, target 1 ----------\n",
      "0.4874418604651163\n",
      "---------- source 2, target 3 ----------\n",
      "0.782851817334576\n",
      "---------- source 3, target 0 ----------\n",
      "0.6701947502116851\n",
      "---------- source 3, target 1 ----------\n",
      "0.5518604651162791\n",
      "---------- source 3, target 2 ----------\n",
      "0.8072702331961591\n",
      "Avg acc.: 0.6601360088285587\n"
     ]
    }
   ],
   "source": [
    "avg = 0\n",
    "for s, t in permutations(range(4), 2):\n",
    "    s_path = f'./OfficeHome/source_only/s{s}_t{t}.npz'\n",
    "    t_path = f'./OfficeHome/s2t_shot/s{s}_t{t}.npz'\n",
    "    ssx, ssy, _, _ = get_features(s_path, norm=False)\n",
    "    _, _, stx, sty = get_features(t_path, norm=False)\n",
    "    ssc = np.stack([ssx[ssy == i].mean(axis=0) for i in range(65)])   \n",
    "    stc = np.stack([stx[sty == i].mean(axis=0) for i in range(65)]) \n",
    "#     print(np.linalg.norm(sc - tc))\n",
    "    pred, _ = prototype_classifier(stx, ssc)\n",
    "#     pseudo_c = np.stack([stx[pred.flatten() == i].mean(axis=0) for i in range(65)])\n",
    "#     pred, _ = prototype_classifier(stx, pseudo_c)\n",
    "    score = (pred == sty).mean()\n",
    "    print('-'*10, f'source {s}, target {t}', '-'*10)\n",
    "    print(score)\n",
    "    avg += score\n",
    "#     break\n",
    "print('Avg acc.:', avg/12)"
   ]
  },
  {
   "cell_type": "markdown",
   "id": "hungarian-ballet",
   "metadata": {},
   "source": [
    "#### Kmeans prototypical classifier"
   ]
  },
  {
   "cell_type": "code",
   "execution_count": null,
   "id": "selected-portfolio",
   "metadata": {},
   "outputs": [],
   "source": [
    "def center_dist(a, b):\n",
    "    return np.linalg.norm(a-b, axis=1)"
   ]
  },
  {
   "cell_type": "markdown",
   "id": "weird-medication",
   "metadata": {},
   "source": [
    "#### Imagenet prototypical classifier"
   ]
  },
  {
   "cell_type": "code",
   "execution_count": null,
   "id": "imperial-contamination",
   "metadata": {
    "scrolled": true
   },
   "outputs": [],
   "source": [
    "avg = 0\n",
    "for s, t in permutations(range(4), 2):\n",
    "    s_path = f'./OfficeHome/fixbi/s{s}_t{t}.npz'\n",
    "    ssx, ssy, stx, sty = get_features(s_path, norm=False)\n",
    "    ssc = np.stack([ssx[ssy == i].mean(axis=0) for i in range(65)])   \n",
    "    stc = np.stack([stx[sty == i].mean(axis=0) for i in range(65)]) \n",
    "    sc = ssx.mean(axis=0)\n",
    "    tc = stx.mean(axis=0)\n",
    "    print(np.linalg.norm(ssc - stc, axis=1))\n",
    "    pred, _ = prototype_classifier(stx, ssc)\n",
    "#     pseudo_c = np.stack([stx[pred.flatten() == i].mean(axis=0) for i in range(65)])\n",
    "#     pred, _ = prototype_classifier(stx, pseudo_c)\n",
    "    score = (pred == sty).mean()\n",
    "    print('-'*10, f'source {s}, target {t}', '-'*10)\n",
    "    print(score)\n",
    "#     print(np.linalg.norm(sc - tc))\n",
    "    avg += score\n",
    "    for a, b in combinations(ssc, 2):\n",
    "        print(np.linalg.norm(a - b))\n",
    "    break\n",
    "print('Avg acc.:', avg/12)"
   ]
  },
  {
   "cell_type": "markdown",
   "id": "solved-dominican",
   "metadata": {},
   "source": [
    "#### top-2 pseudo labeling"
   ]
  },
  {
   "cell_type": "code",
   "execution_count": null,
   "id": "graduate-familiar",
   "metadata": {},
   "outputs": [],
   "source": [
    "for s, t in permutations(range(4), 2):\n",
    "    s_path = f'./OfficeHome/fixbi/s{s}_t{t}.npz'\n",
    "    ssx, ssy, stx, sty = get_features(s_path, norm=False)\n",
    "\n",
    "    ssc = np.stack([ssx[ssy == i].mean(axis=0) for i in range(65)])\n",
    "    t_pred, t_dist = prototype_classifier(stx, ssc, th=3)\n",
    "    s_pred, s_dist = prototype_classifier(ssx, ssc, th=3)\n",
    "    s_dist = softmax(s_dist, axis=0)\n",
    "    t_dist = softmax(t_dist, axis=0)\n",
    "\n",
    "    output_path = Path(f'./OfficeHome/pseudo_label/s{s}_t{t}.npz')\n",
    "    output_path.parent.mkdir(exist_ok=True, parents=True)\n",
    "    with open(output_path, 'wb') as f:\n",
    "        np.savez(f, s_pred=s_pred.T, t_pred=t_pred.T, s_prob=s_dist.T, t_prob=t_dist.T)"
   ]
  },
  {
   "cell_type": "markdown",
   "id": "necessary-sequence",
   "metadata": {},
   "source": [
    "#### Masked Prototypical Classifier for Top-2 Accuracy"
   ]
  },
  {
   "cell_type": "code",
   "execution_count": null,
   "id": "altered-trader",
   "metadata": {
    "scrolled": false
   },
   "outputs": [],
   "source": [
    "avg = 0\n",
    "ratio=0.8\n",
    "for s, t in permutations(range(4), 2):\n",
    "    s_path = f'./OfficeHome/fixbi/s{s}_t{t}.npz'\n",
    "    ssx, ssy, stx, sty = get_features(s_path, norm=False)\n",
    "    ssc = np.stack([ssx[ssy == i].mean(axis=0) for i in range(65)])    \n",
    "    prob = np.zeros((stx.shape[0], 65))\n",
    "    for i in range(100):\n",
    "        pred, dist = masked_prototypical_classifier(stx, ssc, ratio=ratio, seed=i, th=2)\n",
    "        dist = softmax(dist, axis=0)\n",
    "        prob[np.arange(pred.shape[1]), pred] += dist/100\n",
    "    pred = prob.argmax(axis=1)\n",
    "    score = (pred == sty).mean()\n",
    "    print('-'*10, f'source {s}, target {t}', '-'*10)\n",
    "    print(score)\n",
    "    avg += score\n",
    "print('Avg acc.:', avg/12)"
   ]
  }
 ],
 "metadata": {
  "kernelspec": {
   "display_name": "Python 3",
   "language": "python",
   "name": "python3"
  },
  "language_info": {
   "codemirror_mode": {
    "name": "ipython",
    "version": 3
   },
   "file_extension": ".py",
   "mimetype": "text/x-python",
   "name": "python",
   "nbconvert_exporter": "python",
   "pygments_lexer": "ipython3",
   "version": "3.8.5"
  }
 },
 "nbformat": 4,
 "nbformat_minor": 5
}
