{
 "cells": [
  {
   "cell_type": "code",
   "execution_count": null,
   "id": "powered-thunder",
   "metadata": {},
   "outputs": [],
   "source": [
    "from tsnecuda import TSNE\n",
    "import numpy as np\n",
    "import matplotlib.pyplot as plt\n",
    "\n",
    "from sklearn.cluster import KMeans\n",
    "import faiss"
   ]
  },
  {
   "cell_type": "code",
   "execution_count": null,
   "id": "employed-vitamin",
   "metadata": {},
   "outputs": [],
   "source": [
    "s_path = './OfficeHome/s2t_shot/s0_t1_2020.npz'\n",
    "s = np.load(s_path)\n",
    "sf, tf = s['s'], s['t']\n",
    "sx, sy = sf[:, :-1], sf[:, -1]\n",
    "tx, ty = tf[:, :-1], tf[:, -1]"
   ]
  },
  {
   "cell_type": "code",
   "execution_count": null,
   "id": "drawn-performer",
   "metadata": {},
   "outputs": [],
   "source": [
    "sc = np.stack([sx[sy == i].mean(axis=0) for i in range(65)])\n",
    "scy = np.arange(65)\n",
    "\n",
    "sy = np.r_[np.ones(len(tx))*65, tcy]\n",
    "\n",
    "sx_tsne = TSNE(n_components=2, perplexity=15, learning_rate=10).fit_transform(np.r_[sx, sc])\n",
    "\n",
    "tc = np.stack([tx[ty == i].mean(axis=0) for i in range(65)])\n",
    "tcy = np.arange(65)\n",
    "\n",
    "ty = np.r_[np.ones(len(tx))*65, tcy]\n",
    "\n",
    "tx_tsne = TSNE(n_components=2, perplexity=15, learning_rate=10).fit_transform(np.r_[tx, tc])"
   ]
  },
  {
   "cell_type": "code",
   "execution_count": null,
   "id": "general-professional",
   "metadata": {},
   "outputs": [],
   "source": [
    "stx_tsne = TSNE(n_components=2, perplexity=15, learning_rate=10).fit_transform(np.r_[sx, sc, tc])\n",
    "sty = np.tile(np.arange(65), 2)"
   ]
  },
  {
   "cell_type": "code",
   "execution_count": null,
   "id": "prescribed-insert",
   "metadata": {},
   "outputs": [],
   "source": [
    "s_path = './OfficeHome/s2t_shot/s0_t1.npz'\n",
    "s = np.load(s_path)\n",
    "sf, tf = s['s'], s['t']\n",
    "sx, sy = sf[:, :-1], sf[:, -1]\n",
    "tx, ty = tf[:, :-1], tf[:, -1]\n",
    "\n",
    "# sc = np.stack([sx[sy == i].mean(axis=0) for i in range(65)])\n",
    "\n",
    "# kmeans = faiss.Kmeans(tx.shape[1], 65, niter=300, nredo=5, gpu=True, seed=1284)\n",
    "# kmeans.train(tx.astype('float32'), init_centroids=sc.astype('float32'))\n",
    "# t_pred = kmeans.index.search(tx.astype('float32'), 1)[1].flatten()"
   ]
  },
  {
   "cell_type": "code",
   "execution_count": null,
   "id": "arranged-verification",
   "metadata": {},
   "outputs": [],
   "source": [
    "data_path = '../../simsiam/data//s0_1126.npz'\n",
    "data = np.load(data_path)\n",
    "\n",
    "# t_data = np.load('./OfficeHome/s1_1126_0.9.npz')\n",
    "sf = data['sf']\n",
    "# tf = t_data['s']\n",
    "sx, sy = sf[:, :-1], sf[:, -1]\n",
    "# tx, ty = tf[:, :-1], tf[:, -1]\n",
    "\n",
    "# data_path = './OfficeHome/dann/s0_t1.npz'\n",
    "# data = np.load(data_path)\n",
    "\n",
    "# t_data = np.load('./OfficeHome/s1_12846.npz')\n",
    "# sf = data['s']\n",
    "# tf = t_data['s']\n",
    "# sx, sy = sf[:, :-1], sf[:, -1]\n",
    "# tx, ty = tf[:, :-1], tf[:, -1]\n",
    "\n",
    "# # data_path = './OfficeHome/dann/s0_t1.npz'\n",
    "# # data = np.load(data_path)\n",
    "# # sf, tf = data['s'], data['t']\n",
    "# # sx, sy = sf[:, :-1], sf[:, -1]\n",
    "# # tx, ty = tf[:, :-1], tf[:, -1]\n",
    "tx_tsne = TSNE(n_components=2, perplexity=15, learning_rate=10).fit_transform(tx)"
   ]
  },
  {
   "cell_type": "code",
   "execution_count": null,
   "id": "temporal-stereo",
   "metadata": {},
   "outputs": [],
   "source": [
    "s_path = './OfficeHome/kmeans_direct_source_only/s0_t1_65.npz'\n",
    "img_path = './OfficeHome/source_only/s0_t1.npz'\n",
    "f = np.load(s_path)\n",
    "img = np.load(img_path)\n",
    "sf, tf = f['s'], f['t']\n",
    "\n",
    "tx = tf[:, :-1]\n",
    "ty = img['t'][:, -1]\n",
    "sx, sy = sf[:, :-1], sf[:, -1]"
   ]
  },
  {
   "cell_type": "code",
   "execution_count": null,
   "id": "lightweight-relevance",
   "metadata": {},
   "outputs": [],
   "source": [
    "ssy = np.zeros_like(sy)\n",
    "tty = np.ones_like(ty)\n",
    "cx = np.r_[sx, tx]\n",
    "cy = np.r_[ssy, tty]"
   ]
  },
  {
   "cell_type": "code",
   "execution_count": null,
   "id": "filled-contrast",
   "metadata": {},
   "outputs": [],
   "source": [
    "cx_tsne = TSNE(n_components=2, perplexity=15, learning_rate=10, random_seed=1284).fit_transform(cx)"
   ]
  },
  {
   "cell_type": "code",
   "execution_count": null,
   "id": "adjustable-spine",
   "metadata": {},
   "outputs": [],
   "source": [
    "sx_tsne = cx_tsne[:sy.shape[0]]\n",
    "tx_tsne = cx_tsne[sy.shape[0]:]"
   ]
  },
  {
   "cell_type": "code",
   "execution_count": null,
   "id": "signal-presentation",
   "metadata": {},
   "outputs": [],
   "source": [
    "plt.scatter(sx_tsne[:, 0], sx_tsne[:, 1], s=1, c=sy, cmap='tab10')\n",
    "plt.show()"
   ]
  },
  {
   "cell_type": "code",
   "execution_count": null,
   "id": "infinite-liverpool",
   "metadata": {
    "scrolled": false
   },
   "outputs": [],
   "source": [
    "plt.scatter(tx_tsne[:, 0], tx_tsne[:, 1], s=1, c=ty, cmap='tab10')\n",
    "plt.show()"
   ]
  },
  {
   "cell_type": "code",
   "execution_count": null,
   "id": "political-ultimate",
   "metadata": {
    "scrolled": true
   },
   "outputs": [],
   "source": [
    "plt.scatter(sx_tsne[:-65, 0], sx_tsne[:-65, 1], s=1, c='#88c999')\n",
    "plt.scatter(sx_tsne[-65:, 0], sx_tsne[-65:, 1], s=10, c=sy[-65:], cmap='tab10')\n",
    "plt.show()"
   ]
  },
  {
   "cell_type": "code",
   "execution_count": null,
   "id": "engaging-mailing",
   "metadata": {
    "scrolled": true
   },
   "outputs": [],
   "source": [
    "plt.scatter(tx_tsne[:-65, 0], tx_tsne[:-65, 1], s=1, c='#88c999')\n",
    "plt.scatter(tx_tsne[-65:, 0], tx_tsne[-65:, 1], s=10, c=ty[-65:], cmap='tab10')\n",
    "plt.show()"
   ]
  },
  {
   "cell_type": "code",
   "execution_count": null,
   "id": "filled-conditioning",
   "metadata": {},
   "outputs": [],
   "source": [
    "plt.scatter(stx_tsne[:-130, 0], stx_tsne[:-130, 1], s=1, c='#88c999')\n",
    "# plt.scatter(stx_tsne[-130:-65, 0], stx_tsne[-130:-65, 1], s=5, c='hotpink')\n",
    "plt.scatter(stx_tsne[-65:, 0], stx_tsne[-65:, 1], s=15, c=sty[-65:], cmap='tab10')\n",
    "plt.show()"
   ]
  },
  {
   "cell_type": "code",
   "execution_count": null,
   "id": "tired-airplane",
   "metadata": {
    "scrolled": false
   },
   "outputs": [],
   "source": [
    "plt.scatter(cx_tsne[:, 0], cx_tsne[:, 1], s=1, c=cy, cmap='tab10')"
   ]
  }
 ],
 "metadata": {
  "kernelspec": {
   "display_name": "Python 3",
   "language": "python",
   "name": "python3"
  },
  "language_info": {
   "codemirror_mode": {
    "name": "ipython",
    "version": 3
   },
   "file_extension": ".py",
   "mimetype": "text/x-python",
   "name": "python",
   "nbconvert_exporter": "python",
   "pygments_lexer": "ipython3",
   "version": "3.8.5"
  }
 },
 "nbformat": 4,
 "nbformat_minor": 5
}
